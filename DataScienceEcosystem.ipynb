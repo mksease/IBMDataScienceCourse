{
 "cells": [
  {
   "cell_type": "markdown",
   "id": "b2013ae9-5774-45be-8c4e-268270d87c2e",
   "metadata": {},
   "source": [
    "# Data Science Tools and Ecosystem"
   ]
  },
  {
   "cell_type": "markdown",
   "id": "523538a4-0fef-4db8-92d0-d359b0419e48",
   "metadata": {},
   "source": [
    "In this notebook, Data Science Tools and Ecosystem are summarized."
   ]
  },
  {
   "cell_type": "markdown",
   "id": "5f52808c-14a3-4c68-a04f-3d6b5f746241",
   "metadata": {},
   "source": [
    "**Objectives:**\n",
    "- Identify popular languages used in Data Science\n",
    "- Identify common libraries used in Data Science\n",
    "- Identify popular tools used in Data Science\n",
    "- Provide examples of basic arithmetic operations in Python"
   ]
  },
  {
   "cell_type": "markdown",
   "id": "f368a6ee-93ec-419f-ae65-c4ed93f49476",
   "metadata": {},
   "source": [
    "Some of the popular languages that Data Scientists use are:\n",
    "1. Python\n",
    "2. R\n",
    "3. SQL"
   ]
  },
  {
   "cell_type": "markdown",
   "id": "0c280374-dd45-43ff-93f5-aaca68ed926d",
   "metadata": {},
   "source": [
    "Some of the commonly used libraries used by Data Scientists include:\n",
    "\n",
    "1. Pandas\n",
    "2. SciPy\n",
    "3. NumPy"
   ]
  },
  {
   "cell_type": "markdown",
   "id": "4e03e0a7-e455-46d9-843a-1cc798d1ae65",
   "metadata": {},
   "source": [
    "| Data Science Tools |\n",
    "|--------------------|\n",
    "| JupyterLab |\n",
    "| Jupyter Notebook |\n",
    "| R Studio |"
   ]
  },
  {
   "cell_type": "markdown",
   "id": "aa648ae3-c243-4f7b-87ac-8283167d2671",
   "metadata": {},
   "source": [
    "### Below are a few examples of evaluating arithmetic expressions in Python"
   ]
  },
  {
   "cell_type": "code",
   "execution_count": 15,
   "id": "5b63a3a9-5d45-4e1e-b711-f24851e15f03",
   "metadata": {},
   "outputs": [
    {
     "data": {
      "text/plain": [
       "17"
      ]
     },
     "execution_count": 15,
     "metadata": {},
     "output_type": "execute_result"
    }
   ],
   "source": [
    "## This a simple arithmetic expression to mutiply then add integers\n",
    "(3*4)+5"
   ]
  },
  {
   "cell_type": "code",
   "execution_count": 23,
   "id": "ac8a94e6-5486-4604-909d-c0ca9f010105",
   "metadata": {},
   "outputs": [
    {
     "name": "stdout",
     "output_type": "stream",
     "text": [
      "200 minutes is equal to 3.3333333333333335 hours\n"
     ]
    }
   ],
   "source": [
    "## This will convert 200 minutes to hours by diving by 60\n",
    "min = 200\n",
    "hrs = min / 60\n",
    "print(min,\"minutes is equal to\", hrs,\"hours\")"
   ]
  },
  {
   "cell_type": "markdown",
   "id": "9b5eb739-680a-4022-b1f9-af94c7be2646",
   "metadata": {},
   "source": [
    "## Author\n",
    "Matthew Sease"
   ]
  }
 ],
 "metadata": {
  "kernelspec": {
   "display_name": "Python 3 (ipykernel)",
   "language": "python",
   "name": "python3"
  },
  "language_info": {
   "codemirror_mode": {
    "name": "ipython",
    "version": 3
   },
   "file_extension": ".py",
   "mimetype": "text/x-python",
   "name": "python",
   "nbconvert_exporter": "python",
   "pygments_lexer": "ipython3",
   "version": "3.11.7"
  }
 },
 "nbformat": 4,
 "nbformat_minor": 5
}
